{
 "cells": [
  {
   "cell_type": "markdown",
   "metadata": {
    "id": "1MIWdWJ8v_Em"
   },
   "source": [
    "# NLP 실습 #1: N-gram Language model\n",
    "황순원의 '소나기' 로 trigram language model 학습하고 사용해보기\n",
    "</br>\n",
    "</br>\n",
    "\n",
    "* 준비 : konlpy와 nltk의 tokenizer 설명\n",
    "\n",
    "* Step 1: Data preprocessing - tokenization\n",
    "\n",
    "* Step 2: Probability Table을 생성\n",
    "\n",
    "* Step 3: Probability Table을 활용하여 시퀀스 확률 찾기\n",
    "\n",
    "* Step 4: 주어진 시퀀스에서 다음 형태소 예측\n",
    "\n",
    "* Step 5: 주어진 시퀀스로 시작하는 문장을 예측\n",
    "\n",
    "\n",
    "</br>\n",
    "</br>"
   ]
  },
  {
   "cell_type": "code",
   "execution_count": 1,
   "metadata": {},
   "outputs": [
    {
     "name": "stderr",
     "output_type": "stream",
     "text": [
      "[nltk_data] Downloading package punkt to /home2/jyoh96/nltk_data...\n",
      "[nltk_data]   Package punkt is already up-to-date!\n"
     ]
    },
    {
     "data": {
      "text/plain": [
       "True"
      ]
     },
     "execution_count": 1,
     "metadata": {},
     "output_type": "execute_result"
    }
   ],
   "source": [
    "from collections import defaultdict\n",
    "import math\n",
    "from konlpy.tag import Kkma\n",
    "from nltk.tokenize import sent_tokenize\n",
    "import nltk\n",
    "nltk.download('punkt')"
   ]
  },
  {
   "cell_type": "markdown",
   "metadata": {
    "id": "u58Vf5yByd-j"
   },
   "source": [
    "## 준비: konlpy의 형태소 분석기와 nltk의 tokenizer"
   ]
  },
  {
   "cell_type": "code",
   "execution_count": 2,
   "metadata": {
    "colab": {
     "base_uri": "https://localhost:8080/"
    },
    "id": "8sMydXeJivy7",
    "outputId": "c60dda78-b1be-496f-c904-6af335c2f2d4"
   },
   "outputs": [
    {
     "data": {
      "text/plain": [
       "['이', '문장', '이', '형태소', '단위', '로', '잘', '출력', '되', '나요', '?']"
      ]
     },
     "execution_count": 2,
     "metadata": {},
     "output_type": "execute_result"
    }
   ],
   "source": [
    "# 1. konlpy의 Kkma 형태소 분석기 import, 형태소 분석 예제\n",
    "\n",
    "tokenizer = Kkma()\n",
    "tokenizer.morphs(\"이 문장이 형태소 단위로 잘 출력되나요?\")"
   ]
  },
  {
   "cell_type": "code",
   "execution_count": 3,
   "metadata": {
    "colab": {
     "base_uri": "https://localhost:8080/"
    },
    "id": "UxOsfjyKLaJ2",
    "outputId": "33d278e2-68bc-478e-eff7-a40ed563d776"
   },
   "outputs": [
    {
     "data": {
      "text/plain": [
       "['입력이 문장 단위로 잘 구분되는지 확인해보세요.',\n",
       " 'sent_tokenize는 한 line을 받아서 마침표를 기준으로 여러 문장으로 분리해주는 함수입니다!',\n",
       " '이 문장은 세번째 문장입니다.',\n",
       " '이 문장은 네번째 문장입니다!']"
      ]
     },
     "execution_count": 3,
     "metadata": {},
     "output_type": "execute_result"
    }
   ],
   "source": [
    "# 이전에 nltk 및 'punkt' 모듈을 다운로드 하지 않은 경우에 주석을 풀고 run\n",
    "\n",
    "sent_tokenize('입력이 문장 단위로 잘 구분되는지 확인해보세요. sent_tokenize는 한 line을 받아서 마침표를 기준으로 여러 문장으로 분리해주는 함수입니다! 이 문장은 세번째 문장입니다. 이 문장은 네번째 문장입니다!')"
   ]
  },
  {
   "cell_type": "markdown",
   "metadata": {
    "id": "THyoh5vyyvTE"
   },
   "source": [
    "## Step 1: Data preprocessing - tokenization\n",
    "&emsp;&emsp; sonagi.doc의 내용을 문장 단위로 분리.\n",
    "\n",
    "</br> &emsp;&emsp; <<Exercise 1>> 각 문장을 kkma 분석기로 형태소 단위로 분리.\n"
   ]
  },
  {
   "cell_type": "code",
   "execution_count": 4,
   "metadata": {
    "id": "gkaozFjwLqAF"
   },
   "outputs": [],
   "source": [
    "# 4. nltk import하고 sonagi.doc을 읽어들임. nltk의 sent_tokenize를 이용하여 sonagi.doc의 내용을 문장 단위로 분리\n",
    "\n",
    "lines = []\n",
    "with open('sonagi.doc', 'rt', encoding='utf-8') as f:\n",
    "    for line in f:\n",
    "        lines.append(line)"
   ]
  },
  {
   "cell_type": "code",
   "execution_count": 5,
   "metadata": {
    "colab": {
     "base_uri": "https://localhost:8080/"
    },
    "id": "Q6MrcQOMNTM-",
    "outputId": "66b41116-1c0e-4d1c-b997-0a4e0b3e5ebd"
   },
   "outputs": [
    {
     "name": "stdout",
     "output_type": "stream",
     "text": [
      "['소년은 개울가에서 소녀를 보자 곧 윤 초시네 증손녀(曾孫女)딸이라는 걸 알 수 있었다.', '소녀는 개울에다 손을 잠그고 물장난을 하고 있는 것이다.', '서울서는 이런 개울물을 보지 못하기나 한 듯이.', '벌써 며칠째 소녀는, 학교에서 돌아오는 길에 물장난이었다.', '그런데, 어제까지 개울 기슭에서 하더니, 오늘은 징검다리 한가운데 앉아서 하고 있다.', '소년은 개울둑에 앉아 버렸다.', '소녀가 비키기를 기다리자는 것이다.', '요행 지나가는 사람이 있어, 소녀가 길을 비켜 주었다.', '다음 날은 좀 늦게 개울가로 나왔다.', '이 날은 소녀가 징검다리 한가운데 앉아 세수를 하고 있었다.']\n"
     ]
    }
   ],
   "source": [
    "sentences = []\n",
    "for line in lines:\n",
    "    sentences.extend(sent_tokenize(line))\n",
    "    \n",
    "print(sentences[0:10])"
   ]
  },
  {
   "cell_type": "code",
   "execution_count": 6,
   "metadata": {
    "id": "AVmrImWNLu6K"
   },
   "outputs": [
    {
     "name": "stdout",
     "output_type": "stream",
     "text": [
      "[['소년', '은', '개울가', '에서', '소녀', '를', '보', '자', '곧', '윤', '초시', '네', '증손녀', '(', '曾孫女', ')', '딸', '이', '라는', '것', '을', '알', 'ㄹ', '수', '있', '었', '다', '.'], ['소녀', '는', '개울', '에다', '손', '을', '잠그', '고', '물장난', '을', '하', '고', '있', '는', '것', '이', '다', '.'], ['서울', '서', '는', '이런', '개울물', '을', '보', '지', '못하', '기', '나', '하', 'ㄴ', '듯이', '.'], ['벌써', '며칠', '째', '소녀', '는', ',', '학교', '에서', '돌아오', '는', '길', '에', '물장난', '이', '었', '다', '.'], ['그렇', 'ㄴ데', ',', '어제', '까지', '개울', '기슭', '에서', '하', '더니', ',', '오늘', '은', '징검다리', '한', '가운데', '앉', '아서', '하', '고', '있', '다', '.'], ['소년', '은', '개울', '둑', '에', '앉', '아', '버리', '었', '다', '.'], ['소녀', '가', '비키', '기', '를', '기다리', '자고', '하', '는', '것', '이', '다', '.'], ['요행', '지나가', '는', '사람', '이', '있', '어', ',', '소녀', '가', '길', '을', '비키', '어', '주', '었', '다', '.'], ['다음', '날', '은', '좀', '늦', '게', '개울가', '로', '나오', '았', '다', '.'], ['이', '날', '은', '소녀', '가', '징검다리', '한', '가운데', '앉', '아', '세수', '를', '하', '고', '있', '었', '다', '.']]\n"
     ]
    }
   ],
   "source": [
    "morphs_lst = []\n",
    "for sentence in sentences:\n",
    "    temp = tokenizer.morphs(sentence)\n",
    "    morphs_lst.append(temp)\n",
    "\n",
    "print(morphs_lst[0:10])"
   ]
  },
  {
   "cell_type": "code",
   "execution_count": 7,
   "metadata": {
    "colab": {
     "base_uri": "https://localhost:8080/"
    },
    "id": "_EZOns9Immuw",
    "outputId": "3104cac8-8819-4c0d-8980-3ad5c6abd554"
   },
   "outputs": [
    {
     "name": "stdout",
     "output_type": "stream",
     "text": [
      "소년은 개울가에서 소녀를 보자 곧 윤 초시네 증손녀(曾孫女)딸이라는 걸 알 수 있었다.\n",
      "['소년', '은', '개울가', '에서', '소녀', '를', '보', '자', '곧', '윤', '초시', '네', '증손녀', '(', '曾孫女', ')', '딸', '이', '라는', '것', '을', '알', 'ㄹ', '수', '있', '었', '다', '.']\n",
      "\n",
      "소녀는 개울에다 손을 잠그고 물장난을 하고 있는 것이다.\n",
      "['소녀', '는', '개울', '에다', '손', '을', '잠그', '고', '물장난', '을', '하', '고', '있', '는', '것', '이', '다', '.']\n"
     ]
    }
   ],
   "source": [
    "# 6. 형태소 분석된 결과물 확인\n",
    "\n",
    "print(sentences[0])\n",
    "print(morphs_lst[0])\n",
    "print()\n",
    "print(sentences[1])\n",
    "print(morphs_lst[1])"
   ]
  },
  {
   "cell_type": "markdown",
   "metadata": {
    "id": "THyoh5vyyvTE"
   },
   "source": [
    "## Step 2 Probability Table을 생성\n",
    "&emsp;&emsp; << Exercise 1 >> 형태소 단위로 분리된 각 문장들의 trigram을 찾아서 리스트로 저장\n",
    "\n",
    "</br> &emsp;&emsp; << Exercise 2 >> 리스트로 저장된 trigram을 종류 별로 count하여 dictionary 형의 probability table을 생성\n"
   ]
  },
  {
   "cell_type": "code",
   "execution_count": 8,
   "metadata": {
    "colab": {
     "base_uri": "https://localhost:8080/"
    },
    "id": "CxDftsRfL1_d",
    "outputId": "46ceb081-2f38-4904-8924-d3911bb630fd"
   },
   "outputs": [
    {
     "name": "stdout",
     "output_type": "stream",
     "text": [
      "[(('소녀', '는'), '개울'), (('는', '개울'), '에다'), (('개울', '에다'), '손'), (('에다', '손'), '을'), (('손', '을'), '잠그'), (('을', '잠그'), '고'), (('잠그', '고'), '물장난'), (('고', '물장난'), '을'), (('물장난', '을'), '하'), (('을', '하'), '고'), (('하', '고'), '있'), (('고', '있'), '는'), (('있', '는'), '것'), (('는', '것'), '이'), (('것', '이'), '다'), (('이', '다'), '.')]\n",
      "\n",
      "[(('pad', '<s>'), '소녀'), (('<s>', '소녀'), '는'), (('소녀', '는'), '개울'), (('는', '개울'), '에다'), (('개울', '에다'), '손'), (('에다', '손'), '을'), (('손', '을'), '잠그'), (('을', '잠그'), '고'), (('잠그', '고'), '물장난'), (('고', '물장난'), '을'), (('물장난', '을'), '하'), (('을', '하'), '고'), (('하', '고'), '있'), (('고', '있'), '는'), (('있', '는'), '것'), (('는', '것'), '이'), (('것', '이'), '다'), (('이', '다'), '.'), (('다', '.'), '</s>'), (('.', '</s>'), 'pad')]\n"
     ]
    }
   ],
   "source": [
    "# << Exercise 1 >>\n",
    "# Goal: 형태소 단위로 분리된 각 문장들의 trigram을 찾아서 리스트로 저장. - 함수 find_trigram을 작성해주세요.\n",
    "# \n",
    "# input: morphs- 한 문장의 형태소들. list.\n",
    "#         ex) [pad, <s>, 소녀, 는, 개울, 에다, 손, 을, 잠그, 고, 물장난, 을, 하, 고, 있, 는, 것, 이, 다, . </s>, pad]\n",
    "# output: trigrams - 입력 문장의 모든 trigram을 tuple로 표현한 list.\n",
    "#         ex) [((pad, <s>), 소녀), ((<s>, 소녀), 는), ((소녀, 는), 개울), ((는, 개울), 에다), ((개울, 에다), 손) ... ... ((이, 다), .), ((다, .), </s>), ((., </s>), pad),\n",
    "\n",
    "def find_trigram(morphs):\n",
    "    \n",
    "    trigrams = [((t0, t1,), t2) for t0, t1, t2 in zip(morphs, morphs[1:], morphs[2:])]\n",
    "    \n",
    "    return trigrams\n",
    "\n",
    "\n",
    "print(find_trigram(morphs_lst[1]))\n",
    "print()\n",
    "print(find_trigram(['pad', '<s>']  + morphs_lst[1]+ ['</s>','pad']))"
   ]
  },
  {
   "cell_type": "code",
   "execution_count": 9,
   "metadata": {},
   "outputs": [
    {
     "name": "stdout",
     "output_type": "stream",
     "text": [
      "defaultdict(<class 'int'>, {'개울가': 1, '개울': 1, '저': 3, '이': 1, '조약돌': 1, '전': 1, '두': 2, '달리기': 1, '한': 1, '우대': 1, '꽃': 1, '제가': 1, '</s>': 1, '그냥': 1, '주머니': 1, '가슴': 1, '스웨터': 1, '얼굴': 1, '주춤': 1, '소녀': 1, '혼': 1, '지금': 1, '몰래': 1, '공연히': 1, '갈림길': 1, '자리': 1})\n"
     ]
    }
   ],
   "source": [
    "# << Exercise 2 >>\n",
    "# Goal: 형태소 분석된 전체 문서의 trigram들을 count하여 parsing table을 dictionary 형으로 저장. - 함수 count_trigram을 작성해주세요.\n",
    "#       위의 find_trigram 함수를 활용하시면 편합니다.\n",
    "# input : morphs_lst\n",
    "#        [['소년', '은', '개울가', '에서', '소녀', '를', '보', '자', '곧', '윤', '초시', '네', '증손녀', '(', '曾孫女', ')', '딸', '이', '라는', '것', '을', '알', 'ㄹ', '수', '있', '었', '다', '.'],\n",
    "#         ['소녀', '는', '개울', '에다', '손', '을', '잠그', '고', '물장난', '을', '하', '고', '있', '는', '것', '이', '다', '.'],\n",
    "#                   ... ]\n",
    "# output : trigram_freq\n",
    "#        {(pad, <s>): {소년: 25, 소녀: 35, 서울: 3, 벌써: 1, ...},\n",
    "#         (<s>, 소년): {은: 18, 이: 7, ...},\n",
    "#           ...\n",
    "#         (소년, 은): {개울가: 1, 개울: 1, 저: 3, 이: 1, 조약돌: 1, 전: 1, ...}}\n",
    "\n",
    "def count_trigram(morphs_lst):\n",
    "    trigram_freq = defaultdict(lambda: defaultdict(int))\n",
    "    for morphs in morphs_lst:\n",
    "        trigram_in_a_sentence = find_trigram(['pad', '<s>']  + morphs + ['</s>','pad'])\n",
    "        for trigram in trigram_in_a_sentence:\n",
    "            trigram_freq[trigram[0]][trigram[1]] += 1\n",
    "    return trigram_freq\n",
    "\n",
    "trigram_freq = count_trigram(morphs_lst)\n",
    "print(trigram_freq[('소년', '은')])"
   ]
  },
  {
   "cell_type": "markdown",
   "metadata": {
    "id": "XUsVg6IhzToE"
   },
   "source": [
    "## Step 3: model을 활용하여 주어진 시퀀스 확률 구하기\n",
    "&emsp;&emsp; << Exercise 3 >> 생성한 probability table을 사용하여 문장 '단풍 이 눈 에 따갑 없 다 .' 의 확률을 구하기"
   ]
  },
  {
   "cell_type": "code",
   "execution_count": 10,
   "metadata": {},
   "outputs": [
    {
     "data": {
      "text/plain": [
       "0.0013549039433771487"
      ]
     },
     "execution_count": 10,
     "metadata": {},
     "output_type": "execute_result"
    }
   ],
   "source": [
    "# << Exercise 3 >>\n",
    "# Goal: '단풍 이 눈 에 따갑 었 다 .' 의 확률 구하기 - 함수 find_score를 작성해주세요.\n",
    "# input: target_trigram - [((pad, <s>), 단풍), ((<s>, 단풍), 이), ((단풍, 이), 눈), ((아, 눈), 에), ... (., </s>, pad)]\n",
    "# output: probability - 0.0013549039433771487\n",
    "\n",
    "target = \"pad <s> 단풍 이 눈 에 따갑 었 다 . </s> pad\".split()\n",
    "target_trigram = find_trigram(target)\n",
    "\n",
    "def find_score(target_trigram, trigram_freq):\n",
    "    prob = 1\n",
    "    for trigram in target_trigram:\n",
    "        numerator = 0\n",
    "        denominator = 0\n",
    "        for unigram, count in trigram_freq.get(trigram[0], {}).items():\n",
    "            if unigram == trigram[1]:\n",
    "                numerator = count\n",
    "            denominator += count\n",
    "            \n",
    "        if denominator == 0:\n",
    "            temp_prob = 0.\n",
    "        else:\n",
    "            temp_prob = numerator / denominator\n",
    "            \n",
    "        prob *= temp_prob\n",
    "    return prob\n",
    "\n",
    "find_score(target_trigram, trigram_freq)"
   ]
  },
  {
   "cell_type": "markdown",
   "metadata": {
    "id": "d7EcGs1h3xXv"
   },
   "source": [
    "## Step 4: 주어진 시퀀스에서 다음 형태소 예측\n",
    "\n",
    "### &emsp;<< Exercise 4>> '어쩐지' 다음에 올 가장 자연스러운 형태소를 찾아주세요."
   ]
  },
  {
   "cell_type": "code",
   "execution_count": 12,
   "metadata": {},
   "outputs": [
    {
     "name": "stdout",
     "output_type": "stream",
     "text": [
      "소녀\n"
     ]
    }
   ],
   "source": [
    "# << Exercise 4 >> \n",
    "# Goal: \"어쩐지\" 다음에 올 가장 적합한 형태소를 찾기 - 함수 find_next_token을 작성해주세요.\n",
    "# input: target - [pad, <s>, 어쩐지]\n",
    "#        trigram_freq - {(pad, <s>): {소년: 25, 소녀: 35, 서울: 3, 벌써: 1, ...},\n",
    "#                        (<s>, 소년): {은: 18, 이: 7, ...},\n",
    "#                            ...\n",
    "#                        (소년, 은): {개울가: 1, 개울: 1, 저: 3, 이: 1, 조약돌: 1, 전: 1, ...}}\n",
    "# output: best_token - '소녀'\n",
    "\n",
    "target = \"pad <s> 어쩐지\".split()\n",
    "\n",
    "def find_next_token(target, trigram_freq):\n",
    "    highest_count = 0\n",
    "    best_token = None\n",
    "    for unigram, count in trigram_freq.get((target[-2], target[-1]), {}).items():\n",
    "        if highest_count < count:\n",
    "            highest_count = count\n",
    "            best_token = unigram\n",
    "\n",
    "    return best_token\n",
    "\n",
    "print(find_next_token(target, trigram_freq))"
   ]
  },
  {
   "cell_type": "markdown",
   "metadata": {
    "id": "tdmfWMpe4MhX"
   },
   "source": [
    "## Step 5: 주어진 시퀀스로 시작하는 가장 자연스러운 문장 예측\n",
    "\n",
    "#### </br>&emsp;<< Exercise 5 >> Step 4와 loop문을 사용하여,\n",
    "#### </br> &emsp;'어쩐지' 으로 시작하는 가장 자연스러운 문장을 찾아주세요."
   ]
  },
  {
   "cell_type": "code",
   "execution_count": 16,
   "metadata": {},
   "outputs": [
    {
     "name": "stdout",
     "output_type": "stream",
     "text": [
      "<s> 어쩐지 소녀 의 그림자 가 뵈 지 않 았 다 . </s>\n"
     ]
    }
   ],
   "source": [
    "# << Exercise 5 >>\n",
    "# Goal: \"어쩐지\"로 시작하는 가장 자연스러운 문장을 찾기 - 함수 find_full_sentence를 작성해주세요.\n",
    "# input: target - [pad, <s>, 소녀, 가]\n",
    "#        trigram_freq - {(pad, <s>): {소년: 25, 소녀: 35, 서울: 3, 벌써: 1, ...},\n",
    "#                        (<s>, 소년): {은: 18, 이: 7, ...},\n",
    "#                            ...\n",
    "#                        (소년, 은): {개울가: 1, 개울: 1, 저: 3, 이: 1, 조약돌: 1, 전: 1, ...}}\n",
    "# output: full_sentence - [어쩐지, 소녀, 의, 그림자, 가, 뵈, 지, 않, 았, 다, ., </s>]\n",
    "\n",
    "target = \"pad <s> 어쩐지\".split()\n",
    "\n",
    "def find_full_sentence(partial_sentence, trigram_freq):\n",
    "    loop_condition = True\n",
    "    sequence = partial_sentence\n",
    "\n",
    "    while loop_condition:\n",
    "        next_token = find_next_token(sequence, trigram_freq)\n",
    "        sequence.append(next_token)\n",
    "        if sequence[-1] == '</s>':\n",
    "            loop_condition = False\n",
    "            \n",
    "    return sequence\n",
    "\n",
    "print(' '.join(find_full_sentence(target, trigram_freq)).replace('pad ', \"\"))"
   ]
  },
  {
   "cell_type": "code",
   "execution_count": null,
   "metadata": {},
   "outputs": [],
   "source": []
  }
 ],
 "metadata": {
  "colab": {
   "collapsed_sections": [],
   "name": "practice_konlpy_kenlm.ipynb",
   "provenance": [],
   "toc_visible": true
  },
  "kernelspec": {
   "display_name": "Python 3",
   "language": "python",
   "name": "python3"
  },
  "language_info": {
   "codemirror_mode": {
    "name": "ipython",
    "version": 3
   },
   "file_extension": ".py",
   "mimetype": "text/x-python",
   "name": "python",
   "nbconvert_exporter": "python",
   "pygments_lexer": "ipython3",
   "version": "3.7.4"
  }
 },
 "nbformat": 4,
 "nbformat_minor": 1
}
